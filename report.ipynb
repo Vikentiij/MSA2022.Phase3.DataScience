{
 "cells": [
  {
   "cell_type": "markdown",
   "metadata": {},
   "source": [
    "# Phase 3 Data Science Report\n",
    "\n",
    "\n",
    "\n",
    "\n"
   ]
  },
  {
   "cell_type": "markdown",
   "metadata": {},
   "source": [
    "## Introduction"
   ]
  },
  {
   "cell_type": "markdown",
   "metadata": {},
   "source": [
    "I choose cats for my model(label 3)"
   ]
  },
  {
   "cell_type": "markdown",
   "metadata": {},
   "source": [
    "## Model Process"
   ]
  },
  {
   "cell_type": "markdown",
   "metadata": {},
   "source": [
    "First of all, I researched how to load at least one batch of a dataset and then explored it. I found that data in batch 1 is a 10000x3072 NumPy array of uint8s. Each row of the array stores a 32x32 colour image. The first 1024 entries contain the red channel values, the next 1024 the green, and the final 1024 the blue. The image is stored in row-major order so that the first 32 entries of the array are the red channel values of the first row of the image. I converted arrays of image pixels to RGB images to show several images from batch 1.\n",
    "\n",
    "Then I moved to loading metadata and found names for all labels. After it, I was ready to display 5 images for each label.\n",
    "After I loaded the test dataset.  Picked one label ( N 3-cat)\n",
    "\n",
    "Then I moved to data processing. According to requirements, we should use 10000 images for train data. Based on my previous exploration I found that in all 5 batches with data there are 5000 images on each label. So I need to pick up all cats from whole batches and an equal number of the other lables up to another 5000 images altogether. After it, I reshaped the dataset to shape ( 1000, 3,32,32)\n",
    "I did the same steps for test data, but in that case, I created a dataset with 2000 images there are 1000 cat images and another 1000 other images. \n",
    "Next step I changed indexes for labels (before it there were 10 different indexes from 0 to 9). Index 1 became cats and 0 all other images.\n",
    "Before data modelling, I changed the shape of the dataset to (32,32,3).\n",
    "\n",
    "\n",
    "The shape of my model contains an Input layer, pre-processing layer, 1 Conv2D layer with 128 filters, 1 MaxPooling2D layer, 1 Flatten layer, 1 Dense layer with 32 nodes and 1 Output layer. For metrics, I used the accuracy metrics and I trained the model for 200 epochs with a batch size of 1000.\n",
    "I choose the Adam optimizer with a learning rate of 0.001 alongside the BinaryCrossentropy loss function because it is commonly used across data science tutorials and it is also an adaptive optimizer.\n",
    "\n",
    "\n",
    "\n"
   ]
  },
  {
   "cell_type": "markdown",
   "metadata": {},
   "source": [
    "## Model Performance"
   ]
  },
  {
   "cell_type": "markdown",
   "metadata": {},
   "source": [
    "![alt text](graph1.png \"Title\")"
   ]
  },
  {
   "cell_type": "markdown",
   "metadata": {},
   "source": [
    "orange is accuracy, blue - validation accuracy"
   ]
  },
  {
   "cell_type": "markdown",
   "metadata": {},
   "source": [
    "![alt text](graph2.png \"Title\")"
   ]
  },
  {
   "cell_type": "markdown",
   "metadata": {},
   "source": [
    "orange is loss, blue-validation loss"
   ]
  },
  {
   "cell_type": "markdown",
   "metadata": {},
   "source": [
    "The charts show good results but also there is enough room for improvement."
   ]
  },
  {
   "cell_type": "markdown",
   "metadata": {},
   "source": [
    "## Conclusion"
   ]
  },
  {
   "cell_type": "markdown",
   "metadata": {},
   "source": [
    "My model shows approximately 77% validation accuracy. However, based on a random test image I got from the Internet, my model showed a good result with around 67% prediction that it is a cat on the image."
   ]
  },
  {
   "cell_type": "markdown",
   "metadata": {},
   "source": [
    "### References\n",
    "1. Learning Multiple Layers of Features from Tiny Images, Alex Krizhevsky, 2009."
   ]
  }
 ],
 "metadata": {
  "kernelspec": {
   "display_name": "Python 3.10.6 ('env': venv)",
   "language": "python",
   "name": "python3"
  },
  "language_info": {
   "name": "python",
   "version": "3.10.7"
  },
  "orig_nbformat": 4,
  "vscode": {
   "interpreter": {
    "hash": "3ba2e670e4f37f070b19fbe58e3c368fd6c66caa1d539eb9ceea00269474a032"
   }
  }
 },
 "nbformat": 4,
 "nbformat_minor": 2
}
